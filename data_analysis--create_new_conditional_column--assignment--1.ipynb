{
 "cells": [
  {
   "cell_type": "code",
   "execution_count": 1,
   "id": "4b97c57c",
   "metadata": {},
   "outputs": [],
   "source": [
    "import os\n",
    "import pymysql\n",
    "import pandas as pd"
   ]
  },
  {
   "cell_type": "code",
   "execution_count": 2,
   "id": "966900ec",
   "metadata": {},
   "outputs": [],
   "source": [
    "import mysql.connector as sql"
   ]
  },
  {
   "cell_type": "code",
   "execution_count": 3,
   "id": "81b0ad49",
   "metadata": {},
   "outputs": [],
   "source": [
    "host = os.getenv('MYSQL_HOST')"
   ]
  },
  {
   "cell_type": "code",
   "execution_count": 4,
   "id": "4017244e",
   "metadata": {},
   "outputs": [],
   "source": [
    "database = os.getenv('MYSQL_DATABASE')\n",
    "conn = pymysql.connect(\n",
    "    host=host,\n",
    "    port=int(3306),\n",
    "    user=\"root\",\n",
    "    passwd=\"T#9542@naruto\",\n",
    "    db=database,\n",
    "    charset='utf8mb4'\n",
    ")"
   ]
  },
  {
   "cell_type": "code",
   "execution_count": 5,
   "id": "2fd70711",
   "metadata": {},
   "outputs": [
    {
     "name": "stdout",
     "output_type": "stream",
     "text": [
      "             Database\n",
      "0              edyoda\n",
      "1  information_schema\n",
      "2               mysql\n",
      "3  performance_schema\n",
      "4                 sys\n",
      "5             thirudb\n"
     ]
    }
   ],
   "source": [
    "print(pd.read_sql_query('show databases',conn))"
   ]
  },
  {
   "cell_type": "code",
   "execution_count": 8,
   "id": "f5950d93",
   "metadata": {},
   "outputs": [],
   "source": [
    "cursor = conn.cursor()\n"
   ]
  },
  {
   "cell_type": "code",
   "execution_count": 9,
   "id": "b5f46584",
   "metadata": {},
   "outputs": [
    {
     "data": {
      "text/plain": [
       "0"
      ]
     },
     "execution_count": 9,
     "metadata": {},
     "output_type": "execute_result"
    }
   ],
   "source": [
    "query =\"use edyoda\"\n",
    "cursor.execute(query)"
   ]
  },
  {
   "cell_type": "code",
   "execution_count": 10,
   "id": "4483f1cb",
   "metadata": {},
   "outputs": [
    {
     "name": "stdout",
     "output_type": "stream",
     "text": [
      "  Tables_in_edyoda\n",
      "0        customers\n",
      "1           orders\n",
      "2      salespeople\n"
     ]
    }
   ],
   "source": [
    "print(pd.read_sql_query(\"show tables\",conn))"
   ]
  },
  {
   "cell_type": "markdown",
   "id": "9102b74e",
   "metadata": {},
   "source": [
    "surcharge \n",
    "\n",
    "if ship_mode = \"Same Day\" then 20% or 0.2\n",
    "\n",
    "else if ship_mode = \"First Class\" then 10% or 0.1\n",
    "\n",
    "else if ship_mode = \"Standard Class\" then 5% or 0.5\n",
    "\n",
    "else 0\n",
    "total cost = (sales - profit ) * ( 1 + surcharge )"
   ]
  },
  {
   "cell_type": "code",
   "execution_count": 15,
   "id": "02bb6390",
   "metadata": {},
   "outputs": [
    {
     "data": {
      "text/plain": [
       "0"
      ]
     },
     "execution_count": 15,
     "metadata": {},
     "output_type": "execute_result"
    }
   ],
   "source": [
    "query =\"create table sales_table(Sales INT,Profit INT,ship_mode varchar(20), Surcharge DECIMAL(10,3) GENERATED ALWAYS AS (CASE WHEN Ship_mode='Same Day' then 0.2 WHEN Ship_mode='First Class' then 0.1 WHEN Ship_mode='Standard Class' then 0.05 else 0 END),Total_cost DECIMAL(10,3) GENERATED ALWAYS AS((Sales-Profit)*(1+Surcharge)))\"\n",
    "cursor.execute(query)"
   ]
  },
  {
   "cell_type": "code",
   "execution_count": 16,
   "id": "188db9e4",
   "metadata": {},
   "outputs": [
    {
     "name": "stdout",
     "output_type": "stream",
     "text": [
      "  Tables_in_edyoda\n",
      "0        customers\n",
      "1           orders\n",
      "2      sales_table\n",
      "3      salespeople\n"
     ]
    }
   ],
   "source": [
    "print(pd.read_sql_query(\"show tables\",conn))"
   ]
  },
  {
   "cell_type": "code",
   "execution_count": 17,
   "id": "d3ce85a5",
   "metadata": {},
   "outputs": [
    {
     "name": "stdout",
     "output_type": "stream",
     "text": [
      "Empty DataFrame\n",
      "Columns: [Sales, Profit, ship_mode, Surcharge, Total_cost]\n",
      "Index: []\n"
     ]
    }
   ],
   "source": [
    "print(pd.read_sql_query(\"select * from sales_table\",conn))"
   ]
  },
  {
   "cell_type": "code",
   "execution_count": 18,
   "id": "8154dcb6",
   "metadata": {},
   "outputs": [
    {
     "data": {
      "text/plain": [
       "5"
      ]
     },
     "execution_count": 18,
     "metadata": {},
     "output_type": "execute_result"
    }
   ],
   "source": [
    "query=\"insert into sales_table(Sales,Profit,ship_mode)values(2000,100,'Same Day'),(4000,250,'First Class'),(3500,150,'Standard Class'),(2600,170,''),(2700,70,'Standard Class')\"\n",
    "cursor.execute(query)"
   ]
  },
  {
   "cell_type": "code",
   "execution_count": 19,
   "id": "4c36f2db",
   "metadata": {},
   "outputs": [
    {
     "name": "stdout",
     "output_type": "stream",
     "text": [
      "   Sales  Profit       ship_mode  Surcharge  Total_cost\n",
      "0   2000     100        Same Day       0.20      2280.0\n",
      "1   4000     250     First Class       0.10      4125.0\n",
      "2   3500     150  Standard Class       0.05      3517.5\n",
      "3   2600     170                       0.00      2430.0\n",
      "4   2700      70  Standard Class       0.05      2761.5\n"
     ]
    }
   ],
   "source": [
    "print(pd.read_sql_query(\"select * from sales_table\",conn))"
   ]
  },
  {
   "cell_type": "code",
   "execution_count": null,
   "id": "d5e070b0",
   "metadata": {},
   "outputs": [],
   "source": []
  }
 ],
 "metadata": {
  "kernelspec": {
   "display_name": "Python 3 (ipykernel)",
   "language": "python",
   "name": "python3"
  },
  "language_info": {
   "codemirror_mode": {
    "name": "ipython",
    "version": 3
   },
   "file_extension": ".py",
   "mimetype": "text/x-python",
   "name": "python",
   "nbconvert_exporter": "python",
   "pygments_lexer": "ipython3",
   "version": "3.9.7"
  }
 },
 "nbformat": 4,
 "nbformat_minor": 5
}
